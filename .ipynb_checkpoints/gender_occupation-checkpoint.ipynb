{
 "cells": [
  {
   "cell_type": "code",
   "execution_count": 1,
   "id": "807beb04",
   "metadata": {},
   "outputs": [],
   "source": [
    "import numpy as np \n",
    "import pandas as pd \n",
    "from enum import Enum\n",
    "import statsmodels.api as sm"
   ]
  },
  {
   "cell_type": "code",
   "execution_count": 2,
   "id": "768a3663",
   "metadata": {},
   "outputs": [],
   "source": [
    "class Parameters(Enum):\n",
    "    FemaleSeed = 0.5 \n",
    "    RandomSeed = 18\n",
    "    N = 10_000\n",
    "    Epsilon = {'loc': 0, 'scale':1 , 'size': 10_000}"
   ]
  },
  {
   "cell_type": "code",
   "execution_count": 3,
   "id": "928e2419",
   "metadata": {},
   "outputs": [],
   "source": [
    "# Set Random Seed \n",
    "np.random.seed(Parameters.RandomSeed.value)"
   ]
  },
  {
   "cell_type": "code",
   "execution_count": 9,
   "id": "153a6696",
   "metadata": {},
   "outputs": [],
   "source": [
    "# Setting up epsilons \n",
    "occ_epsilon = np.random.normal(**Parameters.Epsilon.value)\n",
    "wage_epsilon = np.random.normal(**Parameters.Epsilon.value)\n",
    "\n",
    "# Data generation \n",
    "female = np.random.rand(Parameters.N.value)\n",
    "female[female > 0.5] = 1 \n",
    "female[female <= 0.5] = 0 \n",
    "\n",
    "ability = np.random.normal(**Parameters.Epsilon.value)\n",
    "occupation = 2*ability + 0 * female + (-2)*female + occ_epsilon\n",
    "wage = (-1)*female + occupation + 2*ability + wage_epsilon\n",
    "\n",
    "# Reshape to column vectors \n",
    "female = female.reshape(-1,1)\n",
    "ability = ability.reshape(-1,1)\n",
    "occupation = occupation.reshape(-1,1)\n",
    "wage = wage.reshape(-1,1)\n",
    "const = np.array([1]*Parameters.N.value).reshape(-1,1)\n",
    "\n",
    "\n",
    "# Data \n",
    "data = np.concatenate([female, ability, occupation, wage, const], axis=1)\n",
    "columns = ['female', 'ability', 'occupation', 'wage', 'const']\n",
    "data = pd.DataFrame(data, columns=columns)"
   ]
  },
  {
   "cell_type": "code",
   "execution_count": 10,
   "id": "f81b9bdd",
   "metadata": {},
   "outputs": [
    {
     "data": {
      "text/html": [
       "<div>\n",
       "<style scoped>\n",
       "    .dataframe tbody tr th:only-of-type {\n",
       "        vertical-align: middle;\n",
       "    }\n",
       "\n",
       "    .dataframe tbody tr th {\n",
       "        vertical-align: top;\n",
       "    }\n",
       "\n",
       "    .dataframe thead th {\n",
       "        text-align: right;\n",
       "    }\n",
       "</style>\n",
       "<table border=\"1\" class=\"dataframe\">\n",
       "  <thead>\n",
       "    <tr style=\"text-align: right;\">\n",
       "      <th></th>\n",
       "      <th>female</th>\n",
       "      <th>ability</th>\n",
       "      <th>occupation</th>\n",
       "      <th>wage</th>\n",
       "      <th>const</th>\n",
       "    </tr>\n",
       "  </thead>\n",
       "  <tbody>\n",
       "    <tr>\n",
       "      <th>0</th>\n",
       "      <td>1.0</td>\n",
       "      <td>-0.191725</td>\n",
       "      <td>-2.173021</td>\n",
       "      <td>-4.609090</td>\n",
       "      <td>1.0</td>\n",
       "    </tr>\n",
       "    <tr>\n",
       "      <th>1</th>\n",
       "      <td>1.0</td>\n",
       "      <td>0.698896</td>\n",
       "      <td>-0.623550</td>\n",
       "      <td>-0.551620</td>\n",
       "      <td>1.0</td>\n",
       "    </tr>\n",
       "    <tr>\n",
       "      <th>2</th>\n",
       "      <td>1.0</td>\n",
       "      <td>-0.958801</td>\n",
       "      <td>-3.489752</td>\n",
       "      <td>-4.812213</td>\n",
       "      <td>1.0</td>\n",
       "    </tr>\n",
       "    <tr>\n",
       "      <th>3</th>\n",
       "      <td>1.0</td>\n",
       "      <td>0.542317</td>\n",
       "      <td>-1.634204</td>\n",
       "      <td>-0.164674</td>\n",
       "      <td>1.0</td>\n",
       "    </tr>\n",
       "    <tr>\n",
       "      <th>4</th>\n",
       "      <td>0.0</td>\n",
       "      <td>-2.418090</td>\n",
       "      <td>-4.412215</td>\n",
       "      <td>-8.555102</td>\n",
       "      <td>1.0</td>\n",
       "    </tr>\n",
       "  </tbody>\n",
       "</table>\n",
       "</div>"
      ],
      "text/plain": [
       "   female   ability  occupation      wage  const\n",
       "0     1.0 -0.191725   -2.173021 -4.609090    1.0\n",
       "1     1.0  0.698896   -0.623550 -0.551620    1.0\n",
       "2     1.0 -0.958801   -3.489752 -4.812213    1.0\n",
       "3     1.0  0.542317   -1.634204 -0.164674    1.0\n",
       "4     0.0 -2.418090   -4.412215 -8.555102    1.0"
      ]
     },
     "execution_count": 10,
     "metadata": {},
     "output_type": "execute_result"
    }
   ],
   "source": [
    "data.head()"
   ]
  },
  {
   "cell_type": "code",
   "execution_count": 11,
   "id": "4c8a2c31",
   "metadata": {},
   "outputs": [
    {
     "name": "stdout",
     "output_type": "stream",
     "text": [
      "                            OLS Regression Results                            \n",
      "==============================================================================\n",
      "Dep. Variable:                   wage   R-squared:                       0.103\n",
      "Model:                            OLS   Adj. R-squared:                  0.103\n",
      "Method:                 Least Squares   F-statistic:                     1148.\n",
      "Date:                Sun, 20 Mar 2022   Prob (F-statistic):          2.27e-238\n",
      "Time:                        21:47:21   Log-Likelihood:                -28710.\n",
      "No. Observations:               10000   AIC:                         5.742e+04\n",
      "Df Residuals:                    9998   BIC:                         5.744e+04\n",
      "Df Model:                           1                                         \n",
      "Covariance Type:            nonrobust                                         \n",
      "==============================================================================\n",
      "                 coef    std err          t      P>|t|      [0.025      0.975]\n",
      "------------------------------------------------------------------------------\n",
      "const         -0.0835      0.061     -1.371      0.170      -0.203       0.036\n",
      "female        -2.8959      0.085    -33.886      0.000      -3.063      -2.728\n",
      "==============================================================================\n",
      "Omnibus:                        1.762   Durbin-Watson:                   1.978\n",
      "Prob(Omnibus):                  0.414   Jarque-Bera (JB):                1.786\n",
      "Skew:                          -0.023   Prob(JB):                        0.410\n",
      "Kurtosis:                       2.954   Cond. No.                         2.64\n",
      "==============================================================================\n",
      "\n",
      "Notes:\n",
      "[1] Standard Errors assume that the covariance matrix of the errors is correctly specified.\n"
     ]
    }
   ],
   "source": [
    "# Regress Wage ~ Female \n",
    "# Biased Unconditional \n",
    "X = data[['const','female']]\n",
    "y = data['wage']\n",
    "model1 = sm.OLS(y, X)\n",
    "results = model1.fit()\n",
    "print(results.summary())"
   ]
  },
  {
   "cell_type": "code",
   "execution_count": 12,
   "id": "30541fc8",
   "metadata": {},
   "outputs": [
    {
     "name": "stdout",
     "output_type": "stream",
     "text": [
      "                            OLS Regression Results                            \n",
      "==============================================================================\n",
      "Dep. Variable:                   wage   R-squared:                       0.912\n",
      "Model:                            OLS   Adj. R-squared:                  0.912\n",
      "Method:                 Least Squares   F-statistic:                 5.151e+04\n",
      "Date:                Sun, 20 Mar 2022   Prob (F-statistic):               0.00\n",
      "Time:                        21:47:21   Log-Likelihood:                -17128.\n",
      "No. Observations:               10000   AIC:                         3.426e+04\n",
      "Df Residuals:                    9997   BIC:                         3.428e+04\n",
      "Df Model:                           2                                         \n",
      "Covariance Type:            nonrobust                                         \n",
      "==============================================================================\n",
      "                 coef    std err          t      P>|t|      [0.025      0.975]\n",
      "------------------------------------------------------------------------------\n",
      "const          0.0017      0.019      0.089      0.929      -0.036       0.039\n",
      "female         0.5960      0.029     20.397      0.000       0.539       0.653\n",
      "occupation     1.8090      0.006    302.294      0.000       1.797       1.821\n",
      "==============================================================================\n",
      "Omnibus:                        0.880   Durbin-Watson:                   1.991\n",
      "Prob(Omnibus):                  0.644   Jarque-Bera (JB):                0.904\n",
      "Skew:                           0.021   Prob(JB):                        0.636\n",
      "Kurtosis:                       2.980   Cond. No.                         6.55\n",
      "==============================================================================\n",
      "\n",
      "Notes:\n",
      "[1] Standard Errors assume that the covariance matrix of the errors is correctly specified.\n"
     ]
    }
   ],
   "source": [
    "# Regress Wage ~ Female + Occupation \n",
    "# Biased Conditional \n",
    "X = data[['const','female', 'occupation']]\n",
    "y = data['wage']\n",
    "model1 = sm.OLS(y, X)\n",
    "results = model1.fit()\n",
    "print(results.summary())"
   ]
  },
  {
   "cell_type": "code",
   "execution_count": 17,
   "id": "a8ee9b2a",
   "metadata": {},
   "outputs": [
    {
     "name": "stdout",
     "output_type": "stream",
     "text": [
      "                            OLS Regression Results                            \n",
      "==============================================================================\n",
      "Dep. Variable:                   wage   R-squared:                       0.950\n",
      "Model:                            OLS   Adj. R-squared:                  0.950\n",
      "Method:                 Least Squares   F-statistic:                 6.279e+04\n",
      "Date:                Sun, 20 Mar 2022   Prob (F-statistic):               0.00\n",
      "Time:                        21:49:34   Log-Likelihood:                -14288.\n",
      "No. Observations:               10000   AIC:                         2.858e+04\n",
      "Df Residuals:                    9996   BIC:                         2.861e+04\n",
      "Df Model:                           3                                         \n",
      "Covariance Type:            nonrobust                                         \n",
      "==============================================================================\n",
      "                 coef    std err          t      P>|t|      [0.025      0.975]\n",
      "------------------------------------------------------------------------------\n",
      "const          0.9926      0.017     57.263      0.000       0.959       1.027\n",
      "female        -0.9890      0.028    -34.900      0.000      -1.045      -0.933\n",
      "ability        2.0046      0.023     88.517      0.000       1.960       2.049\n",
      "occupation     0.9954      0.010     98.588      0.000       0.976       1.015\n",
      "==============================================================================\n",
      "Omnibus:                        0.973   Durbin-Watson:                   1.984\n",
      "Prob(Omnibus):                  0.615   Jarque-Bera (JB):                0.935\n",
      "Skew:                          -0.015   Prob(JB):                        0.626\n",
      "Kurtosis:                       3.037   Cond. No.                         9.47\n",
      "==============================================================================\n",
      "\n",
      "Notes:\n",
      "[1] Standard Errors assume that the covariance matrix of the errors is correctly specified.\n"
     ]
    }
   ],
   "source": [
    "# Regress Wage ~ Female + Occupation + Ability \n",
    "# Unbiased Conditional \n",
    "X = data[['const','female', 'ability', 'occupation']]\n",
    "y = data['wage']\n",
    "model1 = sm.OLS(y, X)\n",
    "results = model1.fit()\n",
    "print(results.summary())"
   ]
  },
  {
   "cell_type": "markdown",
   "id": "64a5db79",
   "metadata": {},
   "source": [
    "# Conclusion"
   ]
  },
  {
   "cell_type": "markdown",
   "id": "de5abe9c",
   "metadata": {},
   "source": [
    "Occupation is a collider effect. We anticipate the effect of gender to be -1 but we get different direction entirely. Once we control for it we get the true results"
   ]
  },
  {
   "cell_type": "code",
   "execution_count": null,
   "id": "081586dd",
   "metadata": {},
   "outputs": [],
   "source": []
  }
 ],
 "metadata": {
  "kernelspec": {
   "display_name": "Python 3 (ipykernel)",
   "language": "python",
   "name": "python3"
  },
  "language_info": {
   "codemirror_mode": {
    "name": "ipython",
    "version": 3
   },
   "file_extension": ".py",
   "mimetype": "text/x-python",
   "name": "python",
   "nbconvert_exporter": "python",
   "pygments_lexer": "ipython3",
   "version": "3.9.7"
  }
 },
 "nbformat": 4,
 "nbformat_minor": 5
}
